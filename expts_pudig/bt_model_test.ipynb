{
 "cells": [
  {
   "cell_type": "code",
   "execution_count": 3,
   "id": "15495b8b-64bc-44e9-a3c4-fb85dfe705de",
   "metadata": {},
   "outputs": [
    {
     "ename": "ModuleNotFoundError",
     "evalue": "No module named 'pyqg'",
     "output_type": "error",
     "traceback": [
      "\u001b[0;31m---------------------------------------------------------------------------\u001b[0m",
      "\u001b[0;31mModuleNotFoundError\u001b[0m                       Traceback (most recent call last)",
      "Cell \u001b[0;32mIn[3], line 5\u001b[0m\n\u001b[1;32m      2\u001b[0m \u001b[38;5;28;01mimport\u001b[39;00m \u001b[38;5;21;01mxarray\u001b[39;00m \u001b[38;5;28;01mas\u001b[39;00m \u001b[38;5;21;01mxr\u001b[39;00m\n\u001b[1;32m      3\u001b[0m \u001b[38;5;28;01mimport\u001b[39;00m \u001b[38;5;21;01mmatplotlib\u001b[39;00m\u001b[38;5;21;01m.\u001b[39;00m\u001b[38;5;21;01mpyplot\u001b[39;00m \u001b[38;5;28;01mas\u001b[39;00m \u001b[38;5;21;01mplt\u001b[39;00m\n\u001b[0;32m----> 5\u001b[0m \u001b[38;5;28;01mimport\u001b[39;00m \u001b[38;5;21;01mpyqg\u001b[39;00m\n",
      "\u001b[0;31mModuleNotFoundError\u001b[0m: No module named 'pyqg'"
     ]
    }
   ],
   "source": [
    "import numpy as np\n",
    "import xarray as xr\n",
    "import matplotlib.pyplot as plt\n",
    "\n",
    "import pyqg"
   ]
  },
  {
   "cell_type": "code",
   "execution_count": 2,
   "id": "b2793795-e308-4bc4-883f-76dff43701c8",
   "metadata": {},
   "outputs": [
    {
     "data": {
      "text/plain": [
       "<module 'pyqg' from '/Users/mattpudig/Desktop/Uni/PhD/Research/pyqg/pyqg/__init__.py'>"
      ]
     },
     "execution_count": 2,
     "metadata": {},
     "output_type": "execute_result"
    }
   ],
   "source": [
    "pyqg"
   ]
  },
  {
   "cell_type": "markdown",
   "id": "c0f936de-81a2-407c-a646-43839eefb96a",
   "metadata": {},
   "source": [
    "# BT model no topography, testing useable parameters"
   ]
  },
  {
   "cell_type": "code",
   "execution_count": 126,
   "id": "7d2cb0d7-a8bc-4908-b474-45eacac7b0f4",
   "metadata": {},
   "outputs": [
    {
     "name": "stderr",
     "output_type": "stream",
     "text": [
      "INFO:  Logger initialized\n",
      "INFO: Step: 1, Time: 1.08e+02, KE: 5.96e-01, CFL: 0.090\n",
      "INFO: Step: 2, Time: 2.16e+02, KE: nan, CFL:  nan\n",
      "ERROR: CFL condition violated\n"
     ]
    },
    {
     "ename": "AssertionError",
     "evalue": "None",
     "output_type": "error",
     "traceback": [
      "\u001b[0;31m---------------------------------------------------------------------------\u001b[0m",
      "\u001b[0;31mAssertionError\u001b[0m                            Traceback (most recent call last)",
      "Cell \u001b[0;32mIn[126], line 44\u001b[0m\n\u001b[1;32m     22\u001b[0m m \u001b[38;5;241m=\u001b[39m pyqg\u001b[38;5;241m.\u001b[39mBTModel(L \u001b[38;5;241m=\u001b[39m L, rd \u001b[38;5;241m=\u001b[39m Ld, nx \u001b[38;5;241m=\u001b[39m nx,\n\u001b[1;32m     23\u001b[0m                  beta \u001b[38;5;241m=\u001b[39m beta, rek \u001b[38;5;241m=\u001b[39m rek,\n\u001b[1;32m     24\u001b[0m                  H \u001b[38;5;241m=\u001b[39m H, hy \u001b[38;5;241m=\u001b[39m hy, hx \u001b[38;5;241m=\u001b[39m hx, \n\u001b[1;32m     25\u001b[0m                  tmax \u001b[38;5;241m=\u001b[39m tmax, dt \u001b[38;5;241m=\u001b[39m dt, twrite \u001b[38;5;241m=\u001b[39m \u001b[38;5;241m1.\u001b[39m)\n\u001b[1;32m     27\u001b[0m \u001b[38;5;66;03m# # define a quick function for plotting and visualize the initial condition\u001b[39;00m\n\u001b[1;32m     28\u001b[0m \u001b[38;5;66;03m# def plot_q(m):\u001b[39;00m\n\u001b[1;32m     29\u001b[0m \u001b[38;5;66;03m#     fig, ax = plt.subplots()\u001b[39;00m\n\u001b[0;32m   (...)\u001b[0m\n\u001b[1;32m     41\u001b[0m \u001b[38;5;66;03m# for _ in m.run_with_snapshots(tsnapstart=0, tsnapint=10):\u001b[39;00m\n\u001b[1;32m     42\u001b[0m \u001b[38;5;66;03m#     plot_q(m)\u001b[39;00m\n\u001b[0;32m---> 44\u001b[0m m\u001b[38;5;241m.\u001b[39mrun()\n",
      "File \u001b[0;32m~/Desktop/Uni/PhD/Research/pyqg/pyqg/model.py:283\u001b[0m, in \u001b[0;36mModel.run\u001b[0;34m(self)\u001b[0m\n\u001b[1;32m    281\u001b[0m \u001b[38;5;124;03m\"\"\"Run the model forward without stopping until the end.\"\"\"\u001b[39;00m\n\u001b[1;32m    282\u001b[0m \u001b[38;5;28;01mwhile\u001b[39;00m(\u001b[38;5;28mself\u001b[39m\u001b[38;5;241m.\u001b[39mt \u001b[38;5;241m<\u001b[39m \u001b[38;5;28mself\u001b[39m\u001b[38;5;241m.\u001b[39mtmax):\n\u001b[0;32m--> 283\u001b[0m     \u001b[38;5;28mself\u001b[39m\u001b[38;5;241m.\u001b[39m_step_forward()\n",
      "File \u001b[0;32m~/Desktop/Uni/PhD/Research/pyqg/pyqg/model.py:436\u001b[0m, in \u001b[0;36mModel._step_forward\u001b[0;34m(self)\u001b[0m\n\u001b[1;32m    431\u001b[0m \u001b[38;5;28mself\u001b[39m\u001b[38;5;241m.\u001b[39m_forward_timestep()\n\u001b[1;32m    432\u001b[0m \u001b[38;5;66;03m# apply tendencies to step the model forward\u001b[39;00m\n\u001b[1;32m    433\u001b[0m \u001b[38;5;66;03m# (filter gets called here)\u001b[39;00m\n\u001b[1;32m    434\u001b[0m \n\u001b[1;32m    435\u001b[0m \u001b[38;5;66;03m# the basic steps are\u001b[39;00m\n\u001b[0;32m--> 436\u001b[0m \u001b[38;5;28mself\u001b[39m\u001b[38;5;241m.\u001b[39m_print_status()\n",
      "File \u001b[0;32m~/Desktop/Uni/PhD/Research/pyqg/pyqg/model.py:574\u001b[0m, in \u001b[0;36mModel._print_status\u001b[0;34m(self)\u001b[0m\n\u001b[1;32m    569\u001b[0m \u001b[38;5;66;03m#print 't=%16d, tc=%10d: cfl=%5.6f, ke=%9.9f' % (\u001b[39;00m\n\u001b[1;32m    570\u001b[0m \u001b[38;5;66;03m#       self.t, self.tc, cfl, ke)\u001b[39;00m\n\u001b[1;32m    571\u001b[0m \u001b[38;5;28mself\u001b[39m\u001b[38;5;241m.\u001b[39mlogger\u001b[38;5;241m.\u001b[39minfo(\u001b[38;5;124m'\u001b[39m\u001b[38;5;124mStep: \u001b[39m\u001b[38;5;132;01m%i\u001b[39;00m\u001b[38;5;124m, Time: \u001b[39m\u001b[38;5;132;01m%3.2e\u001b[39;00m\u001b[38;5;124m, KE: \u001b[39m\u001b[38;5;132;01m%3.2e\u001b[39;00m\u001b[38;5;124m, CFL: \u001b[39m\u001b[38;5;132;01m%4.3f\u001b[39;00m\u001b[38;5;124m'\u001b[39m\n\u001b[1;32m    572\u001b[0m         , \u001b[38;5;28mself\u001b[39m\u001b[38;5;241m.\u001b[39mtc,\u001b[38;5;28mself\u001b[39m\u001b[38;5;241m.\u001b[39mt,\u001b[38;5;28mself\u001b[39m\u001b[38;5;241m.\u001b[39mke,\u001b[38;5;28mself\u001b[39m\u001b[38;5;241m.\u001b[39mcfl )\n\u001b[0;32m--> 574\u001b[0m \u001b[38;5;28;01massert\u001b[39;00m \u001b[38;5;28mself\u001b[39m\u001b[38;5;241m.\u001b[39mcfl\u001b[38;5;241m<\u001b[39m\u001b[38;5;241m1.\u001b[39m, \u001b[38;5;28mself\u001b[39m\u001b[38;5;241m.\u001b[39mlogger\u001b[38;5;241m.\u001b[39merror(\u001b[38;5;124m'\u001b[39m\u001b[38;5;124mCFL condition violated\u001b[39m\u001b[38;5;124m'\u001b[39m)\n",
      "\u001b[0;31mAssertionError\u001b[0m: None"
     ]
    }
   ],
   "source": [
    "# Grid, dimensions\n",
    "L =  1000e3     # length scale of box   [m]\n",
    "Ld = None       # deformation radius    [m]\n",
    "nx = 256.       # number of grid cells per direction\n",
    "\n",
    "# Height and topography\n",
    "H = 1e3         # Mean height of layer  [m]\n",
    "hy = 0. #1e-5   # Gradient of topographic slope in y\n",
    "hx = 0.#1e-6 #1e-5   # Gradient of topographic slope in x\n",
    "\n",
    "# Plantary stuff\n",
    "f0 = 0.#1e-4\n",
    "beta = 0.#1e-11\n",
    "rek = 0.\n",
    "\n",
    "# Time\n",
    "tmax = 60 * 60 * 24 * 5  # model run time [s]\n",
    "dt = 10800 / 100               # time step [s]. NB: < 12500.0, which is the time step that worked with similar grid size for 2 layer model no topography\n",
    "\n",
    "\n",
    "# Create the model object\n",
    "m = pyqg.BTModel(L = L, rd = Ld, nx = nx,\n",
    "                 beta = beta, rek = rek,\n",
    "                 H = H, hy = hy, hx = hx, \n",
    "                 tmax = tmax, dt = dt, twrite = 1.)\n",
    "\n",
    "# # define a quick function for plotting and visualize the initial condition\n",
    "# def plot_q(m):\n",
    "#     fig, ax = plt.subplots()\n",
    "#     pc = ax.pcolormesh(m.x,m.y,m.q.squeeze(), cmap='RdBu_r')\n",
    "#     # pc.set_clim([-qmax, qmax])\n",
    "#     # ax.set_xlim([0, 2*np.pi])\n",
    "#     # ax.set_ylim([0, 2*np.pi]);\n",
    "#     ax.set_aspect(1)\n",
    "#     plt.colorbar(pc)\n",
    "#     plt.title('Time = %g' % m.t)\n",
    "#     plt.show()\n",
    "\n",
    "# plot_q(m)\n",
    "\n",
    "# for _ in m.run_with_snapshots(tsnapstart=0, tsnapint=10):\n",
    "#     plot_q(m)\n",
    "\n",
    "m.run()"
   ]
  },
  {
   "cell_type": "code",
   "execution_count": null,
   "id": "d04cd903-a163-41d0-a72c-991dc1329aaf",
   "metadata": {},
   "outputs": [],
   "source": []
  },
  {
   "cell_type": "code",
   "execution_count": null,
   "id": "6d062c4a-8eb8-4788-aff1-80e5a973b2bb",
   "metadata": {},
   "outputs": [],
   "source": []
  },
  {
   "cell_type": "code",
   "execution_count": null,
   "id": "b0464d88-fb42-409f-831b-e8fee3cfee99",
   "metadata": {},
   "outputs": [],
   "source": []
  }
 ],
 "metadata": {
  "kernelspec": {
   "display_name": "env_pyqg_dev",
   "language": "python",
   "name": "env_pyqg_dev"
  },
  "language_info": {
   "codemirror_mode": {
    "name": "ipython",
    "version": 3
   },
   "file_extension": ".py",
   "mimetype": "text/x-python",
   "name": "python",
   "nbconvert_exporter": "python",
   "pygments_lexer": "ipython3",
   "version": "3.11.2"
  }
 },
 "nbformat": 4,
 "nbformat_minor": 5
}
