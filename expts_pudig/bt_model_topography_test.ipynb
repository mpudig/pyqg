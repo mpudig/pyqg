{
 "cells": [
  {
   "cell_type": "code",
   "execution_count": 1,
   "id": "86a616aa-2e12-4d31-bc8e-e631a020e1cf",
   "metadata": {},
   "outputs": [
    {
     "ename": "SyntaxError",
     "evalue": "invalid syntax. Perhaps you forgot a comma? (qg_model.py, line 59)",
     "output_type": "error",
     "traceback": [
      "Traceback \u001b[0;36m(most recent call last)\u001b[0m:\n",
      "\u001b[0m  File \u001b[1;32m~/anaconda3/envs/env_pyqg_dev/lib/python3.11/site-packages/IPython/core/interactiveshell.py:3460\u001b[0m in \u001b[1;35mrun_code\u001b[0m\n    exec(code_obj, self.user_global_ns, self.user_ns)\u001b[0m\n",
      "\u001b[0m  Cell \u001b[1;32mIn[1], line 5\u001b[0m\n    import pyqg\u001b[0m\n",
      "\u001b[0;36m  File \u001b[0;32m~/Desktop/Uni/PhD/Research/pyqg/pyqg/__init__.py:2\u001b[0;36m\n\u001b[0;31m    from .qg_model import QGModel\u001b[0;36m\n",
      "\u001b[0;36m  File \u001b[0;32m~/Desktop/Uni/PhD/Research/pyqg/pyqg/qg_model.py:59\u001b[0;36m\u001b[0m\n\u001b[0;31m    f0=0.00014583244080045151   # coriolis parameter at same latitude as beta below\u001b[0m\n\u001b[0m       ^\u001b[0m\n\u001b[0;31mSyntaxError\u001b[0m\u001b[0;31m:\u001b[0m invalid syntax. Perhaps you forgot a comma?\n"
     ]
    }
   ],
   "source": [
    "import numpy as np\n",
    "import xarray as xr\n",
    "import matplotlib.pyplot as plt\n",
    "\n",
    "import pyqg"
   ]
  },
  {
   "cell_type": "code",
   "execution_count": null,
   "id": "7bd25a1a-5884-4747-96e6-b46ce522a842",
   "metadata": {},
   "outputs": [],
   "source": []
  }
 ],
 "metadata": {
  "kernelspec": {
   "display_name": "env_pyqg_dev",
   "language": "python",
   "name": "env_pyqg_dev"
  },
  "language_info": {
   "codemirror_mode": {
    "name": "ipython",
    "version": 3
   },
   "file_extension": ".py",
   "mimetype": "text/x-python",
   "name": "python",
   "nbconvert_exporter": "python",
   "pygments_lexer": "ipython3",
   "version": "3.11.2"
  }
 },
 "nbformat": 4,
 "nbformat_minor": 5
}
