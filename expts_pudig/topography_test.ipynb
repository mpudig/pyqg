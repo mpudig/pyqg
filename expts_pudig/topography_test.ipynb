{
 "cells": [
  {
   "cell_type": "code",
   "execution_count": 2,
   "id": "86a616aa-2e12-4d31-bc8e-e631a020e1cf",
   "metadata": {},
   "outputs": [],
   "source": [
    "import numpy as np\n",
    "import xarray as xr\n",
    "import matplotlib.pyplot as plt\n",
    "\n",
    "import pyqg"
   ]
  },
  {
   "cell_type": "markdown",
   "id": "0872570f-5cc2-446c-a65a-8c58eb9e723a",
   "metadata": {
    "tags": []
   },
   "source": [
    "# Run barotropic model following the example but with a mild meridional topographic gradient for testing\n",
    "\n",
    "Following the pyqg example for McWilliams 1984 freely-evolving 2D turbulence ($R_d = 0, \\beta = 0$) experiments on a $2 \\pi \\times 2 \\pi$ doubly-periodic box of $H = 1$, but now with a linear slope in meridional topography (i.e., isomorphic to having $\\beta \\neq 0$). See https://pyqg.readthedocs.io/en/latest/examples/barotropic.html."
   ]
  },
  {
   "cell_type": "code",
   "execution_count": 28,
   "id": "5130bd75-4de5-47f5-baae-f0c0d7c0a4bd",
   "metadata": {
    "tags": []
   },
   "outputs": [
    {
     "name": "stderr",
     "output_type": "stream",
     "text": [
      "INFO:  Logger initialized\n"
     ]
    }
   ],
   "source": [
    "# Grid, dimensions\n",
    "L = 2 * np.pi\n",
    "Ld = None\n",
    "nx = 256.\n",
    "\n",
    "# Height and topography\n",
    "H = 1.\n",
    "hy = 0.#1e-5\n",
    "\n",
    "# Plantary stuff\n",
    "f0 = 1e-4\n",
    "beta = 0.\n",
    "rek = 0.\n",
    "\n",
    "# Time\n",
    "tmax = 40\n",
    "dt = 0.001\n",
    "taveint = 1\n",
    "\n",
    "\n",
    "# Create the model object\n",
    "# m = pyqg.BTModel(L = L, rd = Ld, nx = nx,\n",
    "#                  f0 = f0, beta = beta, rek = rek,\n",
    "#                  H = H, hy = hy,\n",
    "#                  tmax = tmax, dt = dt, taveint = taveint)\n",
    "\n",
    "\n",
    "\n",
    "m = pyqg.BTModel(L=2.*np.pi, nx=256,\n",
    "                 beta=0., H=1., rek=0., rd=None,\n",
    "                 tmax=40, dt=0.001, twrite = 1)\n",
    "\n",
    "# # generate McWilliams 84 IC condition\n",
    "\n",
    "# fk = m.wv != 0\n",
    "# ckappa = np.zeros_like(m.wv2)\n",
    "# ckappa[fk] = np.sqrt( m.wv2[fk]*(1. + (m.wv2[fk]/36.)**2) )**-1\n",
    "\n",
    "# nhx,nhy = m.wv2.shape\n",
    "\n",
    "# Pi_hat = np.random.randn(nhx,nhy)*ckappa +1j*np.random.randn(nhx,nhy)*ckappa\n",
    "\n",
    "# Pi = m.ifft( Pi_hat[np.newaxis,:,:] )\n",
    "# Pi = Pi - Pi.mean()\n",
    "# Pi_hat = m.fft( Pi )\n",
    "# KEaux = m.spec_var( m.wv*Pi_hat )\n",
    "\n",
    "# pih = ( Pi_hat/np.sqrt(KEaux) )\n",
    "# qih = -m.wv2*pih\n",
    "# qi = m.ifft(qih)\n",
    "\n",
    "# # initialize the model with that initial condition\n",
    "# m.set_q(qi)\n",
    "\n",
    "# # define a quick function for plotting and visualize the initial condition\n",
    "# def plot_q(m, qmax=40):\n",
    "#     fig, ax = plt.subplots(figsize=(10,10))\n",
    "#     pc = ax.pcolormesh(m.x,m.y,m.q.squeeze(), cmap='RdBu_r')\n",
    "#     pc.set_clim([-qmax, qmax])\n",
    "#     ax.set_xlim([0, 2*np.pi])\n",
    "#     ax.set_ylim([0, 2*np.pi]);\n",
    "#     ax.set_aspect(1)\n",
    "#     plt.colorbar(pc)\n",
    "#     plt.title('Time = %g' % m.t)\n",
    "#     plt.show()\n",
    "\n",
    "# plot_q(m)"
   ]
  },
  {
   "cell_type": "code",
   "execution_count": 42,
   "id": "019f8aa0-4577-4eef-ab8f-8df2c2bc9387",
   "metadata": {},
   "outputs": [
    {
     "name": "stderr",
     "output_type": "stream",
     "text": [
      "INFO: Step: 14, Time: 1.40e-02, KE: nan, CFL:  nan\n",
      "ERROR: CFL condition violated\n"
     ]
    },
    {
     "ename": "AssertionError",
     "evalue": "None",
     "output_type": "error",
     "traceback": [
      "\u001b[0;31m---------------------------------------------------------------------------\u001b[0m",
      "\u001b[0;31mAssertionError\u001b[0m                            Traceback (most recent call last)",
      "Cell \u001b[0;32mIn[42], line 1\u001b[0m\n\u001b[0;32m----> 1\u001b[0m m\u001b[38;5;241m.\u001b[39mrun()\n",
      "File \u001b[0;32m~/Desktop/Uni/PhD/Research/pyqg/pyqg/model.py:283\u001b[0m, in \u001b[0;36mModel.run\u001b[0;34m(self)\u001b[0m\n\u001b[1;32m    281\u001b[0m \u001b[38;5;124;03m\"\"\"Run the model forward without stopping until the end.\"\"\"\u001b[39;00m\n\u001b[1;32m    282\u001b[0m \u001b[38;5;28;01mwhile\u001b[39;00m(\u001b[38;5;28mself\u001b[39m\u001b[38;5;241m.\u001b[39mt \u001b[38;5;241m<\u001b[39m \u001b[38;5;28mself\u001b[39m\u001b[38;5;241m.\u001b[39mtmax):\n\u001b[0;32m--> 283\u001b[0m     \u001b[38;5;28mself\u001b[39m\u001b[38;5;241m.\u001b[39m_step_forward()\n",
      "File \u001b[0;32m~/Desktop/Uni/PhD/Research/pyqg/pyqg/model.py:436\u001b[0m, in \u001b[0;36mModel._step_forward\u001b[0;34m(self)\u001b[0m\n\u001b[1;32m    431\u001b[0m \u001b[38;5;28mself\u001b[39m\u001b[38;5;241m.\u001b[39m_forward_timestep()\n\u001b[1;32m    432\u001b[0m \u001b[38;5;66;03m# apply tendencies to step the model forward\u001b[39;00m\n\u001b[1;32m    433\u001b[0m \u001b[38;5;66;03m# (filter gets called here)\u001b[39;00m\n\u001b[1;32m    434\u001b[0m \n\u001b[1;32m    435\u001b[0m \u001b[38;5;66;03m# the basic steps are\u001b[39;00m\n\u001b[0;32m--> 436\u001b[0m \u001b[38;5;28mself\u001b[39m\u001b[38;5;241m.\u001b[39m_print_status()\n",
      "File \u001b[0;32m~/Desktop/Uni/PhD/Research/pyqg/pyqg/model.py:574\u001b[0m, in \u001b[0;36mModel._print_status\u001b[0;34m(self)\u001b[0m\n\u001b[1;32m    569\u001b[0m \u001b[38;5;66;03m#print 't=%16d, tc=%10d: cfl=%5.6f, ke=%9.9f' % (\u001b[39;00m\n\u001b[1;32m    570\u001b[0m \u001b[38;5;66;03m#       self.t, self.tc, cfl, ke)\u001b[39;00m\n\u001b[1;32m    571\u001b[0m \u001b[38;5;28mself\u001b[39m\u001b[38;5;241m.\u001b[39mlogger\u001b[38;5;241m.\u001b[39minfo(\u001b[38;5;124m'\u001b[39m\u001b[38;5;124mStep: \u001b[39m\u001b[38;5;132;01m%i\u001b[39;00m\u001b[38;5;124m, Time: \u001b[39m\u001b[38;5;132;01m%3.2e\u001b[39;00m\u001b[38;5;124m, KE: \u001b[39m\u001b[38;5;132;01m%3.2e\u001b[39;00m\u001b[38;5;124m, CFL: \u001b[39m\u001b[38;5;132;01m%4.3f\u001b[39;00m\u001b[38;5;124m'\u001b[39m\n\u001b[1;32m    572\u001b[0m         , \u001b[38;5;28mself\u001b[39m\u001b[38;5;241m.\u001b[39mtc,\u001b[38;5;28mself\u001b[39m\u001b[38;5;241m.\u001b[39mt,\u001b[38;5;28mself\u001b[39m\u001b[38;5;241m.\u001b[39mke,\u001b[38;5;28mself\u001b[39m\u001b[38;5;241m.\u001b[39mcfl )\n\u001b[0;32m--> 574\u001b[0m \u001b[38;5;28;01massert\u001b[39;00m \u001b[38;5;28mself\u001b[39m\u001b[38;5;241m.\u001b[39mcfl\u001b[38;5;241m<\u001b[39m\u001b[38;5;241m1.\u001b[39m, \u001b[38;5;28mself\u001b[39m\u001b[38;5;241m.\u001b[39mlogger\u001b[38;5;241m.\u001b[39merror(\u001b[38;5;124m'\u001b[39m\u001b[38;5;124mCFL condition violated\u001b[39m\u001b[38;5;124m'\u001b[39m)\n",
      "\u001b[0;31mAssertionError\u001b[0m: None"
     ]
    }
   ],
   "source": [
    "m.run()"
   ]
  },
  {
   "cell_type": "code",
   "execution_count": 23,
   "id": "dd769986-1ad2-4032-baca-869ae8622bf4",
   "metadata": {},
   "outputs": [
    {
     "name": "stderr",
     "output_type": "stream",
     "text": [
      "INFO: Step: 15, Time: 1.50e-02, KE: nan, CFL:  nan\n",
      "ERROR: CFL condition violated\n"
     ]
    },
    {
     "ename": "AssertionError",
     "evalue": "None",
     "output_type": "error",
     "traceback": [
      "\u001b[0;31m---------------------------------------------------------------------------\u001b[0m",
      "\u001b[0;31mAssertionError\u001b[0m                            Traceback (most recent call last)",
      "Cell \u001b[0;32mIn[23], line 1\u001b[0m\n\u001b[0;32m----> 1\u001b[0m \u001b[38;5;28;01mfor\u001b[39;00m _ \u001b[38;5;129;01min\u001b[39;00m m\u001b[38;5;241m.\u001b[39mrun_with_snapshots(tsnapstart\u001b[38;5;241m=\u001b[39m\u001b[38;5;241m0\u001b[39m, tsnapint\u001b[38;5;241m=\u001b[39m\u001b[38;5;241m1\u001b[39m):\n\u001b[1;32m      2\u001b[0m     plot_q(m)\n",
      "File \u001b[0;32m~/Desktop/Uni/PhD/Research/pyqg/pyqg/model.py:275\u001b[0m, in \u001b[0;36mModel.run_with_snapshots\u001b[0;34m(self, tsnapstart, tsnapint)\u001b[0m\n\u001b[1;32m    272\u001b[0m tsnapints \u001b[38;5;241m=\u001b[39m np\u001b[38;5;241m.\u001b[39mceil(tsnapint\u001b[38;5;241m/\u001b[39m\u001b[38;5;28mself\u001b[39m\u001b[38;5;241m.\u001b[39mdt)\n\u001b[1;32m    274\u001b[0m \u001b[38;5;28;01mwhile\u001b[39;00m(\u001b[38;5;28mself\u001b[39m\u001b[38;5;241m.\u001b[39mt \u001b[38;5;241m<\u001b[39m \u001b[38;5;28mself\u001b[39m\u001b[38;5;241m.\u001b[39mtmax):\n\u001b[0;32m--> 275\u001b[0m     \u001b[38;5;28mself\u001b[39m\u001b[38;5;241m.\u001b[39m_step_forward()\n\u001b[1;32m    276\u001b[0m     \u001b[38;5;28;01mif\u001b[39;00m \u001b[38;5;28mself\u001b[39m\u001b[38;5;241m.\u001b[39mt\u001b[38;5;241m>\u001b[39m\u001b[38;5;241m=\u001b[39mtsnapstart \u001b[38;5;129;01mand\u001b[39;00m (\u001b[38;5;28mself\u001b[39m\u001b[38;5;241m.\u001b[39mtc\u001b[38;5;241m%\u001b[39mtsnapints)\u001b[38;5;241m==\u001b[39m\u001b[38;5;241m0\u001b[39m:\n\u001b[1;32m    277\u001b[0m         \u001b[38;5;28;01myield\u001b[39;00m \u001b[38;5;28mself\u001b[39m\u001b[38;5;241m.\u001b[39mt\n",
      "File \u001b[0;32m~/Desktop/Uni/PhD/Research/pyqg/pyqg/model.py:436\u001b[0m, in \u001b[0;36mModel._step_forward\u001b[0;34m(self)\u001b[0m\n\u001b[1;32m    431\u001b[0m \u001b[38;5;28mself\u001b[39m\u001b[38;5;241m.\u001b[39m_forward_timestep()\n\u001b[1;32m    432\u001b[0m \u001b[38;5;66;03m# apply tendencies to step the model forward\u001b[39;00m\n\u001b[1;32m    433\u001b[0m \u001b[38;5;66;03m# (filter gets called here)\u001b[39;00m\n\u001b[1;32m    434\u001b[0m \n\u001b[1;32m    435\u001b[0m \u001b[38;5;66;03m# the basic steps are\u001b[39;00m\n\u001b[0;32m--> 436\u001b[0m \u001b[38;5;28mself\u001b[39m\u001b[38;5;241m.\u001b[39m_print_status()\n",
      "File \u001b[0;32m~/Desktop/Uni/PhD/Research/pyqg/pyqg/model.py:574\u001b[0m, in \u001b[0;36mModel._print_status\u001b[0;34m(self)\u001b[0m\n\u001b[1;32m    569\u001b[0m \u001b[38;5;66;03m#print 't=%16d, tc=%10d: cfl=%5.6f, ke=%9.9f' % (\u001b[39;00m\n\u001b[1;32m    570\u001b[0m \u001b[38;5;66;03m#       self.t, self.tc, cfl, ke)\u001b[39;00m\n\u001b[1;32m    571\u001b[0m \u001b[38;5;28mself\u001b[39m\u001b[38;5;241m.\u001b[39mlogger\u001b[38;5;241m.\u001b[39minfo(\u001b[38;5;124m'\u001b[39m\u001b[38;5;124mStep: \u001b[39m\u001b[38;5;132;01m%i\u001b[39;00m\u001b[38;5;124m, Time: \u001b[39m\u001b[38;5;132;01m%3.2e\u001b[39;00m\u001b[38;5;124m, KE: \u001b[39m\u001b[38;5;132;01m%3.2e\u001b[39;00m\u001b[38;5;124m, CFL: \u001b[39m\u001b[38;5;132;01m%4.3f\u001b[39;00m\u001b[38;5;124m'\u001b[39m\n\u001b[1;32m    572\u001b[0m         , \u001b[38;5;28mself\u001b[39m\u001b[38;5;241m.\u001b[39mtc,\u001b[38;5;28mself\u001b[39m\u001b[38;5;241m.\u001b[39mt,\u001b[38;5;28mself\u001b[39m\u001b[38;5;241m.\u001b[39mke,\u001b[38;5;28mself\u001b[39m\u001b[38;5;241m.\u001b[39mcfl )\n\u001b[0;32m--> 574\u001b[0m \u001b[38;5;28;01massert\u001b[39;00m \u001b[38;5;28mself\u001b[39m\u001b[38;5;241m.\u001b[39mcfl\u001b[38;5;241m<\u001b[39m\u001b[38;5;241m1.\u001b[39m, \u001b[38;5;28mself\u001b[39m\u001b[38;5;241m.\u001b[39mlogger\u001b[38;5;241m.\u001b[39merror(\u001b[38;5;124m'\u001b[39m\u001b[38;5;124mCFL condition violated\u001b[39m\u001b[38;5;124m'\u001b[39m)\n",
      "\u001b[0;31mAssertionError\u001b[0m: None"
     ]
    }
   ],
   "source": [
    "for _ in m.run_with_snapshots(tsnapstart=0, tsnapint=1):\n",
    "    plot_q(m)"
   ]
  },
  {
   "cell_type": "code",
   "execution_count": null,
   "id": "9238155d-9269-49ba-8066-21782cbdad8f",
   "metadata": {},
   "outputs": [],
   "source": []
  },
  {
   "cell_type": "code",
   "execution_count": null,
   "id": "250c631f-976c-4273-8250-c2daae35cb86",
   "metadata": {},
   "outputs": [],
   "source": []
  },
  {
   "cell_type": "code",
   "execution_count": null,
   "id": "37cc807d-d4fd-4e51-94be-2c4878c38a0c",
   "metadata": {},
   "outputs": [],
   "source": []
  },
  {
   "cell_type": "code",
   "execution_count": null,
   "id": "d6eab718-ccd9-4a76-92be-cba9ec061506",
   "metadata": {},
   "outputs": [],
   "source": []
  },
  {
   "cell_type": "markdown",
   "id": "5e8a6f22-25d5-4c4e-855c-4b1dbdb2a4b9",
   "metadata": {
    "jp-MarkdownHeadingCollapsed": true,
    "tags": []
   },
   "source": [
    "# Run barotropic model on a beta-plane with a mild meridional topographic gradient for testing"
   ]
  },
  {
   "cell_type": "code",
   "execution_count": 45,
   "id": "764aaf14-abc7-425a-b6bb-1ef331bd08fd",
   "metadata": {},
   "outputs": [
    {
     "ename": "SyntaxError",
     "evalue": "invalid syntax. Perhaps you forgot a comma? (638842169.py, line 38)",
     "output_type": "error",
     "traceback": [
      "\u001b[0;36m  Cell \u001b[0;32mIn[45], line 38\u001b[0;36m\u001b[0m\n\u001b[0;31m    U\u001b[0m\n\u001b[0m    ^\u001b[0m\n\u001b[0;31mSyntaxError\u001b[0m\u001b[0;31m:\u001b[0m invalid syntax. Perhaps you forgot a comma?\n"
     ]
    }
   ],
   "source": [
    "# Grid, dimensions\n",
    "nx = 256.\n",
    "L = 1000e3\n",
    "Ld = None\n",
    "H = 5000\n",
    "\n",
    "# Planetary stuff\n",
    "f0 = 1e-4\n",
    "omega = 7.2921159e-5\n",
    "a = 6.371e6\n",
    "lat = np.arcsin(f0 / (2 * omega))\n",
    "beta = 2 * omega / a * np.cos(lat)\n",
    "\n",
    "rek = 1 / (25 * 24 * 60 * 60) # linear bottom drag coeff.  [s^-1]\n",
    "\n",
    "# Topography\n",
    "hy = 0. #1e-6\n",
    "hx = 0.\n",
    "\n",
    "# Time defaults (the default settings chosen by pyqg)\n",
    "year = 24 * 60 * 60 * 365.  \n",
    "\n",
    "# tmax = 1.577e8        # Run for 5 years [s]\n",
    "# tavestart = 3.154e6   # Start averaring after 1 year [s]\n",
    "# taveint = 86400.      # Daily averages [s]\n",
    "# dt = 3600. / 100           # Hourly time step [s]\n",
    "\n",
    "tmax = 10 * year\n",
    "tavestart = 5 * year\n",
    "twrite = 1\n",
    "\n",
    "dt = 7200. / 10\n",
    "\n",
    "\n",
    "# Initialize model object\n",
    "m = pyqg.QGModel(L = L, rd = Ld, nx = nx,\n",
    "                f0 = f0, beta = beta, rek = rek,\n",
    "                 U\n",
    "                H1 = H, delta = 1., hy = hy,\n",
    "                tmax = tmax, tavestart = tavestart, dt = dt, twrite = twrite)"
   ]
  },
  {
   "cell_type": "code",
   "execution_count": null,
   "id": "4e7c89a6-8b95-43d0-942b-a1edba58ba8f",
   "metadata": {},
   "outputs": [],
   "source": []
  },
  {
   "cell_type": "code",
   "execution_count": null,
   "id": "8d4b4493-ddb7-4236-a5d7-3d4096c3aec8",
   "metadata": {},
   "outputs": [],
   "source": []
  },
  {
   "cell_type": "code",
   "execution_count": null,
   "id": "392a8104-8a50-4de3-b881-b67cbc9270af",
   "metadata": {},
   "outputs": [],
   "source": []
  },
  {
   "cell_type": "code",
   "execution_count": 18,
   "id": "f06c1760-4390-4fb4-95b4-c2315075c13a",
   "metadata": {},
   "outputs": [
    {
     "name": "stderr",
     "output_type": "stream",
     "text": [
      "INFO: Step: 4000, Time: 4.00e+00, KE: nan, CFL:  nan\n",
      "ERROR: CFL condition violated\n"
     ]
    },
    {
     "ename": "AssertionError",
     "evalue": "None",
     "output_type": "error",
     "traceback": [
      "\u001b[0;31m---------------------------------------------------------------------------\u001b[0m",
      "\u001b[0;31mAssertionError\u001b[0m                            Traceback (most recent call last)",
      "Cell \u001b[0;32mIn[18], line 1\u001b[0m\n\u001b[0;32m----> 1\u001b[0m \u001b[38;5;28;01mfor\u001b[39;00m _ \u001b[38;5;129;01min\u001b[39;00m m\u001b[38;5;241m.\u001b[39mrun_with_snapshots(tsnapstart \u001b[38;5;241m=\u001b[39m \u001b[38;5;241m0\u001b[39m, tsnapint \u001b[38;5;241m=\u001b[39m dt):\n\u001b[1;32m      2\u001b[0m     plot_q(m)\n",
      "File \u001b[0;32m~/Desktop/Uni/PhD/Research/pyqg/pyqg/model.py:275\u001b[0m, in \u001b[0;36mModel.run_with_snapshots\u001b[0;34m(self, tsnapstart, tsnapint)\u001b[0m\n\u001b[1;32m    272\u001b[0m tsnapints \u001b[38;5;241m=\u001b[39m np\u001b[38;5;241m.\u001b[39mceil(tsnapint\u001b[38;5;241m/\u001b[39m\u001b[38;5;28mself\u001b[39m\u001b[38;5;241m.\u001b[39mdt)\n\u001b[1;32m    274\u001b[0m \u001b[38;5;28;01mwhile\u001b[39;00m(\u001b[38;5;28mself\u001b[39m\u001b[38;5;241m.\u001b[39mt \u001b[38;5;241m<\u001b[39m \u001b[38;5;28mself\u001b[39m\u001b[38;5;241m.\u001b[39mtmax):\n\u001b[0;32m--> 275\u001b[0m     \u001b[38;5;28mself\u001b[39m\u001b[38;5;241m.\u001b[39m_step_forward()\n\u001b[1;32m    276\u001b[0m     \u001b[38;5;28;01mif\u001b[39;00m \u001b[38;5;28mself\u001b[39m\u001b[38;5;241m.\u001b[39mt\u001b[38;5;241m>\u001b[39m\u001b[38;5;241m=\u001b[39mtsnapstart \u001b[38;5;129;01mand\u001b[39;00m (\u001b[38;5;28mself\u001b[39m\u001b[38;5;241m.\u001b[39mtc\u001b[38;5;241m%\u001b[39mtsnapints)\u001b[38;5;241m==\u001b[39m\u001b[38;5;241m0\u001b[39m:\n\u001b[1;32m    277\u001b[0m         \u001b[38;5;28;01myield\u001b[39;00m \u001b[38;5;28mself\u001b[39m\u001b[38;5;241m.\u001b[39mt\n",
      "File \u001b[0;32m~/Desktop/Uni/PhD/Research/pyqg/pyqg/model.py:436\u001b[0m, in \u001b[0;36mModel._step_forward\u001b[0;34m(self)\u001b[0m\n\u001b[1;32m    431\u001b[0m \u001b[38;5;28mself\u001b[39m\u001b[38;5;241m.\u001b[39m_forward_timestep()\n\u001b[1;32m    432\u001b[0m \u001b[38;5;66;03m# apply tendencies to step the model forward\u001b[39;00m\n\u001b[1;32m    433\u001b[0m \u001b[38;5;66;03m# (filter gets called here)\u001b[39;00m\n\u001b[1;32m    434\u001b[0m \n\u001b[1;32m    435\u001b[0m \u001b[38;5;66;03m# the basic steps are\u001b[39;00m\n\u001b[0;32m--> 436\u001b[0m \u001b[38;5;28mself\u001b[39m\u001b[38;5;241m.\u001b[39m_print_status()\n",
      "File \u001b[0;32m~/Desktop/Uni/PhD/Research/pyqg/pyqg/model.py:574\u001b[0m, in \u001b[0;36mModel._print_status\u001b[0;34m(self)\u001b[0m\n\u001b[1;32m    569\u001b[0m \u001b[38;5;66;03m#print 't=%16d, tc=%10d: cfl=%5.6f, ke=%9.9f' % (\u001b[39;00m\n\u001b[1;32m    570\u001b[0m \u001b[38;5;66;03m#       self.t, self.tc, cfl, ke)\u001b[39;00m\n\u001b[1;32m    571\u001b[0m \u001b[38;5;28mself\u001b[39m\u001b[38;5;241m.\u001b[39mlogger\u001b[38;5;241m.\u001b[39minfo(\u001b[38;5;124m'\u001b[39m\u001b[38;5;124mStep: \u001b[39m\u001b[38;5;132;01m%i\u001b[39;00m\u001b[38;5;124m, Time: \u001b[39m\u001b[38;5;132;01m%3.2e\u001b[39;00m\u001b[38;5;124m, KE: \u001b[39m\u001b[38;5;132;01m%3.2e\u001b[39;00m\u001b[38;5;124m, CFL: \u001b[39m\u001b[38;5;132;01m%4.3f\u001b[39;00m\u001b[38;5;124m'\u001b[39m\n\u001b[1;32m    572\u001b[0m         , \u001b[38;5;28mself\u001b[39m\u001b[38;5;241m.\u001b[39mtc,\u001b[38;5;28mself\u001b[39m\u001b[38;5;241m.\u001b[39mt,\u001b[38;5;28mself\u001b[39m\u001b[38;5;241m.\u001b[39mke,\u001b[38;5;28mself\u001b[39m\u001b[38;5;241m.\u001b[39mcfl )\n\u001b[0;32m--> 574\u001b[0m \u001b[38;5;28;01massert\u001b[39;00m \u001b[38;5;28mself\u001b[39m\u001b[38;5;241m.\u001b[39mcfl\u001b[38;5;241m<\u001b[39m\u001b[38;5;241m1.\u001b[39m, \u001b[38;5;28mself\u001b[39m\u001b[38;5;241m.\u001b[39mlogger\u001b[38;5;241m.\u001b[39merror(\u001b[38;5;124m'\u001b[39m\u001b[38;5;124mCFL condition violated\u001b[39m\u001b[38;5;124m'\u001b[39m)\n",
      "\u001b[0;31mAssertionError\u001b[0m: None"
     ]
    }
   ],
   "source": [
    "for _ in m.run_with_snapshots(tsnapstart = 0, tsnapint = dt):\n",
    "    plot_q(m)"
   ]
  },
  {
   "cell_type": "markdown",
   "id": "3f1f9711-b699-4363-92e1-d7e1adbd2da8",
   "metadata": {
    "tags": []
   },
   "source": [
    "# Run 2 layer QG model that was working in the default library configuration"
   ]
  },
  {
   "cell_type": "code",
   "execution_count": 3,
   "id": "2e5d038d-a720-436c-ac4d-c66bf60b84cc",
   "metadata": {
    "tags": []
   },
   "outputs": [
    {
     "name": "stderr",
     "output_type": "stream",
     "text": [
      "INFO:  Logger initialized\n"
     ]
    }
   ],
   "source": [
    "# Run 2 layer QG for 15 years\n",
    "\n",
    "L =  1000e3     # length scale of box    [m]\n",
    "Ld = 50e3       # deformation scale      [m]\n",
    "#kd = 1. / Ld    # deformation wavenumber [m^-1]\n",
    "Nx = 256.       # number of grid points\n",
    "\n",
    "U1 = 0.01#0.03        # layer 1 background zonal velocity [m/s]\n",
    "U2 = 0.          # layer 2 background zonal velocity [m/s]\n",
    "H1 = 500.        # depth of layer 1\n",
    "delta = 1.       # layer depth ratio, \\delta = H_1 / H_2, with total depth H = H_1 + H_2\n",
    "\n",
    "hy = 0.\n",
    "hx = 1e-5\n",
    "\n",
    "rek = 1 / (25 * 24 * 60 * 60) # linear bottom drag coeff.  [s^-1]\n",
    "f0  = 1e-4                    # coriolis param [s^-1]\n",
    "beta = 1.5e-11                # planetary vorticity gradient [m^-1 s^-1]\n",
    "\n",
    "year = 24 * 60 * 60 * 365.    \n",
    "tmax = 15 * year\n",
    "Ti = Ld / (abs(U1))   # estimate of most unstable e-folding time scale [s] (see 3-layer example in documentation)\n",
    "dt = Ti / 200.        # time-step [s]\n",
    "\n",
    "# Run the model for 15 years, and average over the last 5 years.\n",
    "\n",
    "m = pyqg.QGModel(nx = Nx, L = L, rd = Ld, U1 = U1, U2 = U2, H1 = H1, delta = delta,\n",
    "                 hx = hx, hy = hy,\n",
    "                 f = f0, beta = beta, rek = rek,\n",
    "                 dt = dt / 2, tmax = tmax, twrite = 1, tavestart = tmax - 5 * year)\n",
    "# m.run()"
   ]
  },
  {
   "cell_type": "code",
   "execution_count": 8,
   "id": "5daab77c-0fb9-4b1b-bef3-6d81b42ed16f",
   "metadata": {},
   "outputs": [
    {
     "data": {
      "text/plain": [
       "(12500.0, 12500.0)"
      ]
     },
     "execution_count": 8,
     "metadata": {},
     "output_type": "execute_result"
    }
   ],
   "source": [
    "dt/2, m.dt"
   ]
  },
  {
   "cell_type": "code",
   "execution_count": null,
   "id": "370084cd-d671-4813-98a9-9949656fbd0f",
   "metadata": {},
   "outputs": [],
   "source": []
  },
  {
   "cell_type": "markdown",
   "id": "040e55bf-f5b2-45fd-a913-1d0e25e239e5",
   "metadata": {},
   "source": [
    "NOTE: above parameters but with topographic slopes: hy = 0 and hx = 1e-5 violated CFL condition sometime before the 10,000th timestep... But runs past this time with hx = 1e-7."
   ]
  }
 ],
 "metadata": {
  "kernelspec": {
   "display_name": "env_pyqg_dev",
   "language": "python",
   "name": "env_pyqg_dev"
  },
  "language_info": {
   "codemirror_mode": {
    "name": "ipython",
    "version": 3
   },
   "file_extension": ".py",
   "mimetype": "text/x-python",
   "name": "python",
   "nbconvert_exporter": "python",
   "pygments_lexer": "ipython3",
   "version": "3.11.2"
  }
 },
 "nbformat": 4,
 "nbformat_minor": 5
}
